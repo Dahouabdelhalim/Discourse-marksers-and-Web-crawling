{
 "cells": [
  {
   "cell_type": "markdown",
   "metadata": {
    "id": "-NFtaPvoJJkc"
   },
   "source": [
    "***Function to search for Gramatical codes***"
   ]
  },
  {
   "cell_type": "code",
   "execution_count": 1,
   "metadata": {
    "id": "99zphRSw9_rt"
   },
   "outputs": [],
   "source": [
    "def contains_word(s, w):\n",
    "    return ('' + w + '') in (' ' + s + ' ')"
   ]
  },
  {
   "cell_type": "markdown",
   "metadata": {
    "id": "pzx9MCR9JTBY"
   },
   "source": [
    "***Importing libraries***"
   ]
  },
  {
   "cell_type": "code",
   "execution_count": 2,
   "metadata": {},
   "outputs": [
    {
     "name": "stdout",
     "output_type": "stream",
     "text": [
      "Requirement already satisfied: termcolor in /home/oem/anaconda3/lib/python3.8/site-packages (1.1.0)\n",
      "\u001b[33mWARNING: You are using pip version 20.2.4; however, version 21.1.1 is available.\n",
      "You should consider upgrading via the '/home/oem/anaconda3/bin/python -m pip install --upgrade pip' command.\u001b[0m\n"
     ]
    }
   ],
   "source": [
    "!pip install termcolor"
   ]
  },
  {
   "cell_type": "code",
   "execution_count": 3,
   "metadata": {
    "id": "7cDUoPCsJW21"
   },
   "outputs": [],
   "source": [
    "# Importing libraries\n",
    "from io import open\n",
    "import re\n",
    "from termcolor import colored"
   ]
  },
  {
   "cell_type": "markdown",
   "metadata": {
    "id": "7QCSHdDKJbsg"
   },
   "source": [
    "***Reading Dela_fr file***"
   ]
  },
  {
   "cell_type": "code",
   "execution_count": 6,
   "metadata": {
    "id": "GfVY3RsHJYt4"
   },
   "outputs": [],
   "source": [
    "# Reading Dela_fr file\n",
    "filename = \"Dela_fr.dic\"\n",
    "with open(filename, 'r', encoding='utf8') as f:\n",
    "    text = f.readlines()"
   ]
  },
  {
   "cell_type": "markdown",
   "metadata": {
    "id": "Yn01WHFPJi7m"
   },
   "source": [
    "***Specify the format of gramatical codes***"
   ]
  },
  {
   "cell_type": "code",
   "execution_count": 7,
   "metadata": {
    "id": "YZko00t1JhSW"
   },
   "outputs": [],
   "source": [
    "# Precise the motifs\n",
    "motifs = [\".A:\",\".A+\",\".ADV:\",\".ADV+\",\".V:\",\".V+\",\".DET:\",\".DET+\",\".PREP:\",\".PREP+\",\".PREPDET:\",\".PREPDET+\",\".PRO:\",\".PRO+\"]\n",
    "motif_1 = \".A:\"\n",
    "motif_2 = \".A+\"\n"
   ]
  },
  {
   "cell_type": "markdown",
   "metadata": {
    "id": "--NoJC6bJqEx"
   },
   "source": [
    "***Apply the loop to search and modify***"
   ]
  },
  {
   "cell_type": "code",
   "execution_count": 8,
   "metadata": {
    "id": "qBv2QZ34uzfX"
   },
   "outputs": [],
   "source": [
    "# Search and modify\n",
    "for i in range(len(text)):\n",
    "\n",
    "    if contains_word (text[i],motif_1 ): # Test if the motif_1 exist\n",
    "\n",
    "      print(colored('Before', 'red'),text[i])\n",
    "      text[i] = re.sub(motif_1, \".In\",text[i]) # make the modification by using the \"inutile\" word (in place of the motif)\n",
    "      print(colored(\"After\",'green'), text[i])\n",
    "\n",
    "    elif contains_word (text[i],motif_2 ): # Test if the motif_2 exist\n",
    "\n",
    "      print(colored('Before', 'red'),text[i])\n",
    "      text[i] = re.sub(motif_2, \".In\",text[i]) # make the modification by using the \"inutile\" word (in place of the motif)\n",
    "      print(colored(\"After\",'green'), text[i])"
   ]
  },
  {
   "cell_type": "markdown",
   "metadata": {
    "id": "fTbX9635JwSc"
   },
   "source": [
    "***Check the existence of the previous gramatical codes***"
   ]
  },
  {
   "cell_type": "code",
   "execution_count": 52,
   "metadata": {
    "id": "-sVnH9OqPXSp"
   },
   "outputs": [],
   "source": [
    "# Reading Dela_fr file\n",
    "filename = \"Dela_fr_modify.dic\"\n",
    "with open(filename, 'w', encoding='utf8') as f:\n",
    "    for line in text:\n",
    "      f.write(line)\n",
    "    f.close()"
   ]
  }
 ],
 "metadata": {
  "colab": {
   "collapsed_sections": [],
   "name": "Untitled37.ipynb",
   "provenance": []
  },
  "kernelspec": {
   "display_name": "Python 3",
   "language": "python",
   "name": "python3"
  },
  "language_info": {
   "codemirror_mode": {
    "name": "ipython",
    "version": 3
   },
   "file_extension": ".py",
   "mimetype": "text/x-python",
   "name": "python",
   "nbconvert_exporter": "python",
   "pygments_lexer": "ipython3",
   "version": "3.8.5"
  }
 },
 "nbformat": 4,
 "nbformat_minor": 1
}
